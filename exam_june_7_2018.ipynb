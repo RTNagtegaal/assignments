{
 "cells": [
  {
   "cell_type": "markdown",
   "metadata": {},
   "source": [
    "Before you turn this problem in, make sure everything runs as expected. First, **restart the kernel** (in the menubar, select Kernel$\\rightarrow$Restart) and then **run all cells** (in the menubar, select Cell$\\rightarrow$Run All).\n",
    "\n",
    "Make sure you fill in any place that says `YOUR CODE HERE` or \"YOUR ANSWER HERE\", as well as your name and collaborators below:"
   ]
  },
  {
   "cell_type": "code",
   "execution_count": 172,
   "metadata": {},
   "outputs": [],
   "source": [
    "NAME = \"Rens Nagtegaal, 2010175\"\n",
    "COLLABORATORS = \"\""
   ]
  },
  {
   "cell_type": "markdown",
   "metadata": {},
   "source": [
    "---"
   ]
  },
  {
   "cell_type": "markdown",
   "metadata": {},
   "source": [
    "Fill in the cell above to provide us with your name and student number, like\n",
    "\n",
    "NAME = \"Adam Smith, #student number#\"\n",
    "\n",
    "where you replace \"#student number#\" with your ... (very good!)\n",
    "\n",
    "and if you are doing this with someone else (not more than one other person):\n",
    "\n",
    "COLLABORATORS = \"Karl Marx, #student number#\""
   ]
  },
  {
   "cell_type": "markdown",
   "metadata": {
    "deletable": false,
    "editable": false,
    "nbgrader": {
     "checksum": "a7ae5c69becf064d614c6c38935eca51",
     "grade": false,
     "grade_id": "cell-895e9a7b94992ec9",
     "locked": true,
     "schema_version": 1,
     "solution": false
    }
   },
   "source": [
    "# exam June 7th, 2018\n"
   ]
  },
  {
   "cell_type": "markdown",
   "metadata": {
    "deletable": false,
    "editable": false,
    "nbgrader": {
     "checksum": "bc48d165f54aa364aa34509649fcdef5",
     "grade": false,
     "grade_id": "cell-540987818af25557",
     "locked": true,
     "schema_version": 1,
     "solution": false
    }
   },
   "source": [
    "\n",
    "In the first cell of the notebook, give us your name and student number in the way indicated above. If you do this notebook with --at max.-- one other student, give her/his name and student number as well under \"COLLABORATORS\".\n",
    "\n",
    "Fill in the notebook (see below for code cells and text cells that you need to fill in).\n",
    "\n",
    "If you look at the menus above (File, Edit, View etc.), there is one called \"Cell\". If you click on this, you can change the \"Cell Type\". Choose \"Code\" when you are typing python or R code. Choose \"Markdown\" when you are typing, well, markdown.\n",
    "\n",
    "When you finish the notebook, make sure that you **save it with the output of your code included**. \n",
    "\n",
    "Then put it on github, e.g. by dragging it onto github (see instructions below). \n",
    "\n",
    "Finally, add a link to your README file with the name of this exam: \"Exam June 7, 2018\".\n",
    "\n"
   ]
  },
  {
   "cell_type": "markdown",
   "metadata": {
    "deletable": false,
    "editable": false,
    "nbgrader": {
     "checksum": "6fad9bed312da1b0097e9c520b18e3fb",
     "grade": false,
     "grade_id": "cell-e1cf88cb799f1f43",
     "locked": true,
     "schema_version": 1,
     "solution": false
    }
   },
   "source": [
    "## price effects of mergers\n",
    "\n",
    "We consider a merger in this notebook. \n",
    "\n",
    "First we calculate the equilibrium with three firms, denoted by 1, 2 and 3. Then firms 2 and 3 merge so that we are left with 2 firms; denoted by 1 and 2.\n",
    "\n",
    "We calculate the effects of the merger on the equilibrium price.\n",
    "\n",
    "We start by importing the usual libraries."
   ]
  },
  {
   "cell_type": "code",
   "execution_count": 173,
   "metadata": {
    "deletable": false,
    "editable": false,
    "nbgrader": {
     "checksum": "7bd770ef54db47c3b6c8d0e31f6baef6",
     "grade": false,
     "grade_id": "cell-b895769bf40e183a",
     "locked": true,
     "schema_version": 1,
     "solution": false
    }
   },
   "outputs": [],
   "source": [
    "import matplotlib.pyplot as plt\n",
    "import pandas as pd\n",
    "import numpy as np\n",
    "from scipy import optimize\n",
    "%matplotlib inline"
   ]
  },
  {
   "cell_type": "markdown",
   "metadata": {},
   "source": [
    "The following code helps to calculate the equilibrium for the case with 3 firms. Note that you have seen similar code during the tutorials to calculate the equilibrium with 2 firms.\n",
    "\n",
    "We assume that before the merger each firm has constant marginal costs equal to 0.3. We assume a simple linear (inverse) demand curve of the form $p=1-Q$ where $p$ denotes price and $Q$ total output on the market. Total output equals the sum of each firm's output: $Q= q_1 + q_2+q_3$."
   ]
  },
  {
   "cell_type": "code",
   "execution_count": 174,
   "metadata": {
    "deletable": false,
    "editable": false,
    "nbgrader": {
     "checksum": "3e30f7ac9d9155ef089b8ca56a0c0436",
     "grade": false,
     "grade_id": "cell-f97a25efed556fd2",
     "locked": true,
     "schema_version": 1,
     "solution": false
    }
   },
   "outputs": [],
   "source": [
    "c0 = 0.3\n",
    "vector_c = [c0]*3\n",
    "\n",
    "def p(Q):\n",
    "    return 1 - Q\n",
    "\n",
    "def costs(q,c):\n",
    "    return c*q\n",
    "\n",
    "def profits(q,Q_other,c):\n",
    "    return p(q+Q_other)*q-costs(q,c)\n",
    "\n",
    "def reaction(Q_other,c):\n",
    "    q1 =  optimize.fminbound(lambda x: -profits(x,Q_other,c),0,1,full_output=1)\n",
    "    return q1[0]\n",
    "\n",
    "def fixed_point_three_firms(vector_q,vector_c):\n",
    "    return [vector_q[0]-reaction(vector_q[1]+vector_q[2],vector_c[0]),\n",
    "            vector_q[1]-reaction(vector_q[0]+vector_q[2],vector_c[1]),\n",
    "            vector_q[2]-reaction(vector_q[0]+vector_q[1],vector_c[2])]\n",
    "\n"
   ]
  },
  {
   "cell_type": "markdown",
   "metadata": {
    "deletable": false,
    "editable": false,
    "nbgrader": {
     "checksum": "f6ea3b2416aca7293a5450c45865f242",
     "grade": false,
     "grade_id": "cell-83284c4090d6de8c",
     "locked": true,
     "schema_version": 1,
     "solution": false
    }
   },
   "source": [
    "#### a) [0.5 points] Show that total equilibrium output equals  0.525. Derive the equilibrium price and Herfindahl index; denote these by `P0` and `H0` resp."
   ]
  },
  {
   "cell_type": "code",
   "execution_count": 175,
   "metadata": {
    "deletable": false,
    "nbgrader": {
     "checksum": "a06d73c35395adb00480733b458cb4a5",
     "grade": true,
     "grade_id": "cell-3b8ee172d9950128",
     "locked": false,
     "points": 0.5,
     "schema_version": 1,
     "solution": true
    },
    "scrolled": true
   },
   "outputs": [
    {
     "name": "stdout",
     "output_type": "stream",
     "text": [
      "Equilibrium output per firm: [q1 q2 q3] = [0.175 0.175 0.175]\n"
     ]
    }
   ],
   "source": [
    "#To calculate the equilibrium output per firm we use optimize.fsolve with lambda q as anonymous function and the defined x0 as starting point\n",
    "#Following is the starting point, or initial guess\n",
    "x0 = [0,0,0]\n",
    "#Following is the function that computes the vector q at equilibrium giving us the seperate outputs per firm\n",
    "optimize.fsolve(lambda q: fixed_point_three_firms(q,vector_c), x0)\n",
    "print(\"Equilibrium output per firm: [q1 q2 q3] = \" + str(optimize.fsolve(lambda q: fixed_point_three_firms(q,[0.3,0.3,0.3]), x0)))"
   ]
  },
  {
   "cell_type": "code",
   "execution_count": 176,
   "metadata": {
    "scrolled": true
   },
   "outputs": [
    {
     "name": "stdout",
     "output_type": "stream",
     "text": [
      "P0 = 0.4750000000000001\n",
      "H0 = 0.33333333333333337\n"
     ]
    }
   ],
   "source": [
    "#Now we have the equilibrium output per firm we can compute the total equilibrium output\n",
    "q1 = 0.175\n",
    "q2 = 0.175\n",
    "q3 = 0.175\n",
    "Q = 0.175 + 0.175 + 0.175\n",
    "\n",
    "#We can calculate the price with the given formula\n",
    "print(\"P0 = \" + str(p(Q)))\n",
    "\n",
    "#The Herfindahl index can be calculated by adding the squares of the market share per firm, so the square of the market share divided by the total market output \n",
    "H0 = (q1/Q)**2 + (q2/Q)**2 + (q3/Q)**2\n",
    "print(\"H0 = \" + str(H0))"
   ]
  },
  {
   "cell_type": "markdown",
   "metadata": {
    "deletable": false,
    "editable": false,
    "nbgrader": {
     "checksum": "87b3b3e0e2d645c280e279312e489dc4",
     "grade": false,
     "grade_id": "cell-4b33762aa4a601fe",
     "locked": true,
     "schema_version": 1,
     "solution": false
    }
   },
   "source": [
    "#### b) [0.5 point] Define a function `fixed_point_two_firms` with the same structure as the function `fixed_point_three_firms` above, except that it derives the equilibrium output levels for a duopoly (two firms). Test this function by showing that each of the two firms produces 0.3333 in case both firms have zero costs."
   ]
  },
  {
   "cell_type": "code",
   "execution_count": null,
   "metadata": {},
   "outputs": [],
   "source": []
  },
  {
   "cell_type": "code",
   "execution_count": 177,
   "metadata": {
    "deletable": false,
    "nbgrader": {
     "checksum": "024a1519155d681b57c85292df535a65",
     "grade": true,
     "grade_id": "cell-5ee215676b91f504",
     "locked": false,
     "points": 0.5,
     "schema_version": 1,
     "solution": true
    },
    "scrolled": true
   },
   "outputs": [
    {
     "data": {
      "text/plain": [
       "array([0.33333333, 0.33333333])"
      ]
     },
     "execution_count": 177,
     "metadata": {},
     "output_type": "execute_result"
    }
   ],
   "source": [
    "c1 = 0 \n",
    "vector_c1 = [c1]*2\n",
    "initial_guess = [0.2,0.2]\n",
    "\n",
    "def fixed_point_two_firms(vector_q,vector_c):\n",
    "    return [vector_q[0]-reaction(vector_q[1],vector_c[0]),\n",
    "            vector_q[1]-reaction(vector_q[0],vector_c[1])]\n",
    "optimize.fsolve(lambda r: fixed_point_two_firms(r,[0, 0]), initial_guess)\n"
   ]
  },
  {
   "cell_type": "markdown",
   "metadata": {
    "deletable": false,
    "editable": false,
    "nbgrader": {
     "checksum": "5291fc8716e367572fde17ebe5844d2f",
     "grade": false,
     "grade_id": "cell-c2fada02efd7b197",
     "locked": true,
     "schema_version": 1,
     "solution": false
    }
   },
   "source": [
    "The Dutch competition authority, ACM, is asked to evaluate the effects of a merger between firms 2 and 3. Firms 2 and 3 claim that by merging they can reduce their constant marginal costs. But it is not clear by how much they will reduce their costs.\n",
    "\n",
    "The ACM assumes that the marginal cost level of the merged firm is uniformly distributed between 0 and the current marginal cost level `c0`. The merger will not affect the marginal cost level of firm 1 who does not merge. Firm 1's cost level remains `c0`.\n",
    "\n",
    "The next cell generates a vector of cost levels for the merged firm, denoted `c_after_merger`. Evaluate \"c_after_merger\" in a separate cell if you do not understand the command that defines it.\n",
    "\n",
    "Then it calculates the equilibrium output levels for (the non-merging) firm 1 and (the merged) firm 2.\n",
    "\n",
    "Note that you need to specify `initial_guess`.\n"
   ]
  },
  {
   "cell_type": "code",
   "execution_count": 178,
   "metadata": {
    "deletable": false,
    "editable": false,
    "nbgrader": {
     "checksum": "11299317cd53e31de9900700999b0324",
     "grade": false,
     "grade_id": "cell-ce91ab3e3225c57d",
     "locked": true,
     "schema_version": 1,
     "solution": false
    }
   },
   "outputs": [],
   "source": [
    "c_after_merger = np.random.uniform(0,c0,size = 100)\n",
    "\n",
    "q1_after_merger = [optimize.fsolve(lambda q: fixed_point_two_firms(q,[c0,c]), initial_guess)[0] for c in c_after_merger]\n",
    "q2_after_merger = [optimize.fsolve(lambda q: fixed_point_two_firms(q,[c0,c]), initial_guess)[1] for c in c_after_merger]\n",
    "\n",
    "\n"
   ]
  },
  {
   "cell_type": "markdown",
   "metadata": {
    "deletable": false,
    "editable": false,
    "nbgrader": {
     "checksum": "2b518306d6ff20ee42d0bc3085333095",
     "grade": false,
     "grade_id": "cell-0acc18b4f07a09f4",
     "locked": true,
     "schema_version": 1,
     "solution": false
    }
   },
   "source": [
    "#### c) [0.5 points] Create a dataframe called `df_after_merger` with three columns: `c_merged_firm`, `output_non_merging_firm`, `output_merged_firm` containing resp. the cost level of the merged firm, the output level of firm 1 and the output level of firm 2."
   ]
  },
  {
   "cell_type": "code",
   "execution_count": 183,
   "metadata": {
    "deletable": false,
    "nbgrader": {
     "checksum": "f4fc6a3bdef91fa3f656ccd3290c9f54",
     "grade": true,
     "grade_id": "cell-f3eacda828774f2d",
     "locked": false,
     "points": 0.5,
     "schema_version": 1,
     "solution": true
    }
   },
   "outputs": [
    {
     "name": "stdout",
     "output_type": "stream",
     "text": [
      "[array([0.07139987, 0.28410325, 0.01949804, 0.29443215, 0.25663448,\n",
      "       0.12132655, 0.20731056, 0.13044057, 0.00131879, 0.08935664,\n",
      "       0.14457068, 0.28033126, 0.07164982, 0.23013875, 0.19616218,\n",
      "       0.06401008, 0.24916758, 0.05888582, 0.07269708, 0.23159403,\n",
      "       0.26927243, 0.07411555, 0.07637582, 0.14894527, 0.03030084,\n",
      "       0.08141312, 0.22422228, 0.16420076, 0.2954457 , 0.08256826,\n",
      "       0.02069187, 0.21877606, 0.09882888, 0.02282484, 0.07938544,\n",
      "       0.13635387, 0.03074964, 0.00428281, 0.11864473, 0.0279961 ,\n",
      "       0.10049956, 0.25356597, 0.00698888, 0.21917192, 0.18300793,\n",
      "       0.06155693, 0.25602577, 0.23825171, 0.16328072, 0.19257963,\n",
      "       0.0418458 , 0.04041682, 0.26622395, 0.27242599, 0.14834147,\n",
      "       0.29439779, 0.1851853 , 0.29287373, 0.20485933, 0.14023433,\n",
      "       0.05141135, 0.10528855, 0.02009706, 0.11278635, 0.18386528,\n",
      "       0.0462057 , 0.18049052, 0.20595732, 0.21766369, 0.17237743,\n",
      "       0.27347001, 0.0609731 , 0.12018554, 0.20148829, 0.15339965,\n",
      "       0.06855637, 0.2834446 , 0.22840729, 0.26778553, 0.13260175,\n",
      "       0.10644985, 0.15920436, 0.04811912, 0.16853921, 0.10306827,\n",
      "       0.20788799, 0.18216539, 0.23957516, 0.19600449, 0.13412552,\n",
      "       0.14398086, 0.1134733 , 0.1672883 , 0.2727512 , 0.20305773,\n",
      "       0.26495009, 0.07044059, 0.13314407, 0.22936277, 0.29815677]), [0.1571332890569765, 0.2280344175474665, 0.1398326790830768, 0.23147738234422746, 0.21887816035548424, 0.17377551675979433, 0.20243685260647104, 0.17681352482186247, 0.1337729289269611, 0.16311887836157582, 0.18152356150679147, 0.2267770852288017, 0.15721660821198433, 0.21004625031414467, 0.1987207270591273, 0.15467002704578753, 0.21638919247173935, 0.15296194108954103, 0.157565692424411, 0.21053134183893177, 0.223090808876838, 0.15803851628731194, 0.15879193984708603, 0.1829817557251059, 0.14343361493814755, 0.1604710397106808, 0.20807409237877864, 0.18806691971265987, 0.23181523179352012, 0.16085608554033964, 0.14023062386191018, 0.20625868587456114, 0.1662762918612536, 0.14094161369556218, 0.15979514732193095, 0.17878462389339086, 0.14358321402646645, 0.1347609382491471, 0.17288157553957273, 0.14266536503261945, 0.16683318713709105, 0.2178553216942751, 0.13566296037438375, 0.2063906401193157, 0.19433597684668436, 0.1538523101693356, 0.21867525740611443, 0.21275056928481556, 0.18776024050837983, 0.1975265439229586, 0.14728193402069226, 0.1468056080324716, 0.22207465127910817, 0.22414199755309683, 0.18278049078379416, 0.23146593146801953, 0.19506176760252555, 0.23095790873849698, 0.20161977622591853, 0.18007810865313512, 0.15047045155776, 0.1684295175332635, 0.14003235353185084, 0.17092878443029982, 0.19462175939279866, 0.14873523190392637, 0.1934968396116903, 0.20198577410967017, 0.20588789547763023, 0.19079247566494234, 0.22449000174166753, 0.15365769896431425, 0.17339518075652702, 0.20049609701705648, 0.18446655081377367, 0.15618545561002042, 0.22781486626316885, 0.20946909582541792, 0.22259517537536544, 0.17753391588548625, 0.16881661586470983, 0.1864014542508967, 0.14937303833517185, 0.18951306995971343, 0.16768942290255415, 0.202629329432778, 0.19405512840407607, 0.2131917211029463, 0.19866816333306522, 0.17804183876935217, 0.1813269543798724, 0.17115776623123521, 0.18909610058913134, 0.22425039875184138, 0.2010192416763004, 0.22165002907175532, 0.1568135289316198, 0.17771469149317487, 0.20978758892474925, 0.23271892285804735], [0.3857334218860465, 0.24393116490506747, 0.42033464183384667, 0.23704523531154553, 0.26224367928903114, 0.35244896648041185, 0.2951262947870579, 0.3463729503562751, 0.43245414214607764, 0.3737622432768483, 0.336952876986417, 0.24644582954239666, 0.38556678357603097, 0.27990749937171094, 0.30255854588174547, 0.3906599459084251, 0.26722161505652103, 0.3940761178209178, 0.3848686151511774, 0.27893731632213653, 0.25381838224632447, 0.38392296742537596, 0.3824161203058279, 0.3340364885497876, 0.41313277012370464, 0.37905792057863846, 0.28385181524244274, 0.3238661605746804, 0.23636953641296019, 0.37828782891932067, 0.41953875227617926, 0.28748262825087817, 0.36744741627749294, 0.41811677260887603, 0.38040970535613855, 0.34243075221321834, 0.41283357194706644, 0.43047812350170606, 0.3542368489208546, 0.41466926993476116, 0.36633362572581785, 0.2642893566114499, 0.4286740792512322, 0.2872187197613691, 0.31132804630663136, 0.3922953796613281, 0.26264948518777126, 0.27449886143036856, 0.32447951898324046, 0.3049469121540834, 0.40543613195861544, 0.4063887839350569, 0.2558506974417837, 0.2517160048938064, 0.33443901843241164, 0.2370681370639612, 0.3098764647949489, 0.2380841825230063, 0.29676044754816283, 0.3398437826937297, 0.39905909688448016, 0.363140964933473, 0.4199352929362987, 0.35814243113940025, 0.31075648121440225, 0.4025295361921474, 0.31300632077661933, 0.2960284517806597, 0.2882242090447396, 0.3184150486701152, 0.2510199965166655, 0.392684602071371, 0.3532096384869458, 0.2990078059658875, 0.3310668983724526, 0.3876290887799593, 0.2443702674736626, 0.28106180834916406, 0.2548096492492691, 0.3449321682290276, 0.36236676827058034, 0.3271970914982061, 0.40125392332965654, 0.3209738600805731, 0.36462115419489166, 0.2947413411344444, 0.31188974319184787, 0.27361655779410804, 0.3026636733338695, 0.34391632246129616, 0.33734609124025505, 0.357684467537529, 0.3218077988217378, 0.25149920249631713, 0.2979615166473996, 0.25669994185648914, 0.38637294213675977, 0.3445706170136502, 0.2804248221505013, 0.23456215428390534]]\n"
     ]
    }
   ],
   "source": [
    "#We create the dataframe by calling on the predefined terms\n",
    "intitial_guess = 0.25\n",
    "c_merger_firm = c_after_merger\n",
    "output_non_merging_firm = q1_after_merger\n",
    "output_merged_firm = q2_after_merger\n",
    "df_after_merger = [c_merger_firm, \n",
    "                   output_non_merging_firm, \n",
    "                   output_merged_firm]\n",
    "print(df_after_merger)"
   ]
  },
  {
   "cell_type": "markdown",
   "metadata": {
    "deletable": false,
    "editable": false,
    "nbgrader": {
     "checksum": "a5bf4171960844da9c57375d83b6eedf",
     "grade": false,
     "grade_id": "cell-7ad058be42e19df8",
     "locked": true,
     "schema_version": 1,
     "solution": false
    }
   },
   "source": [
    "#### d) [0.5 points] Add three columns to the dataframe with resp. total equilibrium output on the market, `Q`, equilibrium price, `P` and the Herfindahl index, `H`."
   ]
  },
  {
   "cell_type": "code",
   "execution_count": 180,
   "metadata": {
    "deletable": false,
    "nbgrader": {
     "checksum": "ab6179623b39a6ae634abea45326e4ab",
     "grade": true,
     "grade_id": "cell-9c39b11747803ca1",
     "locked": false,
     "points": 0.5,
     "schema_version": 1,
     "solution": true
    }
   },
   "outputs": [
    {
     "ename": "NameError",
     "evalue": "name 'mutate' is not defined",
     "output_type": "error",
     "traceback": [
      "\u001b[0;31m---------------------------------------------------------------------------\u001b[0m",
      "\u001b[0;31mNameError\u001b[0m                                 Traceback (most recent call last)",
      "\u001b[0;32m<ipython-input-180-967002fc278a>\u001b[0m in \u001b[0;36m<module>\u001b[0;34m()\u001b[0m\n\u001b[0;32m----> 1\u001b[0;31m \u001b[0mdf_after_merger\u001b[0m \u001b[0;34m<\u001b[0m\u001b[0;34m-\u001b[0m \u001b[0mmutate\u001b[0m\u001b[0;34m(\u001b[0m\u001b[0mdf_after_merger\u001b[0m\u001b[0;34m,\u001b[0m\u001b[0mQ\u001b[0m \u001b[0;34m=\u001b[0m \u001b[0mQ\u001b[0m\u001b[0;34m,\u001b[0m\u001b[0mP\u001b[0m \u001b[0;34m=\u001b[0m \u001b[0mP0\u001b[0m\u001b[0;34m,\u001b[0m \u001b[0mH\u001b[0m \u001b[0;34m=\u001b[0m \u001b[0mH0\u001b[0m\u001b[0;34m)\u001b[0m\u001b[0;34m\u001b[0m\u001b[0m\n\u001b[0m",
      "\u001b[0;31mNameError\u001b[0m: name 'mutate' is not defined"
     ]
    }
   ],
   "source": [
    "df_after_merger <- mutate(df_after_merger,Q = Q,P = P0, H = H0)"
   ]
  },
  {
   "cell_type": "markdown",
   "metadata": {},
   "source": [
    "#### e) [0.5 points] Make a histogram of the equilibrium price `P` after the merger. Also indicate in the histogram the equilibrium price before the merger `P0`. Label the horizontal axis with $P$.\n",
    "\n",
    "[hint: you may want to use matplotlib's `hist`, `vlines` and `legend` to make this graph (e.g use google to find these functions); but feel free to use something else]"
   ]
  },
  {
   "cell_type": "code",
   "execution_count": 193,
   "metadata": {
    "deletable": false,
    "nbgrader": {
     "checksum": "b103cd98545261b20f937f4b9db67f68",
     "grade": true,
     "grade_id": "cell-f9193bf8e71f1a9a",
     "locked": false,
     "points": 0.5,
     "schema_version": 1,
     "solution": true
    }
   },
   "outputs": [
    {
     "data": {
      "text/plain": [
       "<matplotlib.collections.LineCollection at 0x151e5fd278>"
      ]
     },
     "execution_count": 193,
     "metadata": {},
     "output_type": "execute_result"
    },
    {
     "data": {
      "image/png": "[encoded data removed]",
      "text/plain": [
       "<matplotlib.figure.Figure at 0x151e1d3b00>"
      ]
     },
     "metadata": {},
     "output_type": "display_data"
    }
   ],
   "source": [
    "plt.hist(df_after_merger, bins=None, range=[0,1])\n",
    "plt.xlabel(\"P\")\n",
    "plt.vlines(P0, 0, 1)"
   ]
  },
  {
   "cell_type": "markdown",
   "metadata": {},
   "source": [
    "#### f) [0.5 points] Explain why sometimes the equilibrium price after the merger exceeds the equilibrium price before the merger and sometimes it is lower than the pre-merger price. [hint: there is a trade off between two effects, depending on which effect dominates, equilibrium price increases or decreases after the merger]"
   ]
  },
  {
   "cell_type": "markdown",
   "metadata": {
    "deletable": false,
    "nbgrader": {
     "checksum": "dd9fc721b7cf7f66587e93cbfb758034",
     "grade": true,
     "grade_id": "cell-7a1f367cd2854156",
     "locked": false,
     "points": 0.5,
     "schema_version": 1,
     "solution": true
    }
   },
   "source": [
    "The merged firm might want to push remaining competition out of the market by lowering the price or it might want to increase its profits by increasing its price. These possibilities are influenced in the code by the reaction part of the function."
   ]
  },
  {
   "cell_type": "markdown",
   "metadata": {
    "deletable": false,
    "editable": false,
    "nbgrader": {
     "checksum": "e1e41dbf14c605bf91cdc78f70eada99",
     "grade": false,
     "grade_id": "cell-06ed6044f8938a45",
     "locked": true,
     "schema_version": 1,
     "solution": false
    }
   },
   "source": [
    "#### g) [0.5 points] Make a graph with the Herfindahl index on the horizontal axis and the equilibrium price on the vertical axis. This is straightforward for $(H,P)$ after the merger as both values are in the dataframe. Add in another color, the pre-merger combination `(H0,P0)` that we calculated above."
   ]
  },
  {
   "cell_type": "code",
   "execution_count": 195,
   "metadata": {
    "deletable": false,
    "nbgrader": {
     "checksum": "51cfaacbaf533e85d9794bc74712afd5",
     "grade": true,
     "grade_id": "cell-d647464d04870b73",
     "locked": false,
     "points": 0.5,
     "schema_version": 1,
     "solution": true
    }
   },
   "outputs": [
    {
     "ename": "NameError",
     "evalue": "name 'aes' is not defined",
     "output_type": "error",
     "traceback": [
      "\u001b[0;31m---------------------------------------------------------------------------\u001b[0m",
      "\u001b[0;31mNameError\u001b[0m                                 Traceback (most recent call last)",
      "\u001b[0;32m<ipython-input-195-8e2ccb85a4d8>\u001b[0m in \u001b[0;36m<module>\u001b[0;34m()\u001b[0m\n\u001b[0;32m----> 1\u001b[0;31m \u001b[0mplt\u001b[0m\u001b[0;34m(\u001b[0m\u001b[0mdf_after_merger\u001b[0m\u001b[0;34m,\u001b[0m \u001b[0maes\u001b[0m\u001b[0;34m(\u001b[0m\u001b[0mH\u001b[0m\u001b[0;34m,\u001b[0m \u001b[0mP\u001b[0m\u001b[0;34m)\u001b[0m\u001b[0;34m)\u001b[0m \u001b[0;34m+\u001b[0m \u001b[0mplt\u001b[0m\u001b[0;34m(\u001b[0m\u001b[0mH0\u001b[0m\u001b[0;34m,\u001b[0m \u001b[0mP0\u001b[0m\u001b[0;34m)\u001b[0m\u001b[0;34m\u001b[0m\u001b[0m\n\u001b[0m",
      "\u001b[0;31mNameError\u001b[0m: name 'aes' is not defined"
     ]
    }
   ],
   "source": [
    "plt(df_after_merger, aes(H, P)) + plt(H0, P0)"
   ]
  },
  {
   "cell_type": "markdown",
   "metadata": {
    "deletable": false,
    "editable": false,
    "nbgrader": {
     "checksum": "11b6609131b1c25886f2c6cafe0f7a59",
     "grade": false,
     "grade_id": "cell-5c5e5776a7c135a2",
     "locked": true,
     "schema_version": 1,
     "solution": false
    }
   },
   "source": [
    "#### h) [0.5 points] Use the graph under g) to discuss the relation between the Herfindahl index and the equilibrium price. To illustrate, some people think that lower values of the Herfindahl index are associated with more competitive outcome. Would you agree with this?"
   ]
  },
  {
   "cell_type": "markdown",
   "metadata": {
    "collapsed": true,
    "deletable": false,
    "nbgrader": {
     "checksum": "3d396887dde3b00420c623b9f4ea8ed2",
     "grade": true,
     "grade_id": "cell-cbd89d483b23a953",
     "locked": false,
     "points": 0.5,
     "schema_version": 1,
     "solution": true
    }
   },
   "source": [
    "The higher the Herfindahl index, the higher the price because there is less competition when the Herfindahl index is higher. Lower Herfindahl index values are indeed associated with more competition I believe because when you have more competition you add more squares of smaller market shares giving a smaller total."
   ]
  },
  {
   "cell_type": "markdown",
   "metadata": {},
   "source": [
    "## Github\n",
    "\n",
    "After you have finished, we need to upload this notebook on github. Make sure that you upload the file on the github page of each collaborator."
   ]
  },
  {
   "cell_type": "markdown",
   "metadata": {},
   "source": [
    "Instructions on how to upload this on github can be found [on this page](http://janboone.github.io/programming-for-economists/github.html). This page has two screencasts: one shows how to drag the notebook onto your github page, the other shows how you can use the command line to upload your notebook.\n"
   ]
  },
  {
   "cell_type": "markdown",
   "metadata": {},
   "source": [
    "Remember to update the README file in your repository to include a link to this notebook on github.\n",
    "\n",
    "\n",
    "The links that you should post start with “github.com/” and are NOT of the form “http://localhost”. Make sure you test your links after uploading."
   ]
  },
  {
   "cell_type": "code",
   "execution_count": null,
   "metadata": {},
   "outputs": [],
   "source": []
  }
 ],
 "metadata": {
  "anaconda-cloud": {},
  "kernelspec": {
   "display_name": "Python 3",
   "language": "python",
   "name": "python3"
  },
  "language_info": {
   "codemirror_mode": {
    "name": "ipython",
    "version": 3
   },
   "file_extension": ".py",
   "mimetype": "text/x-python",
   "name": "python",
   "nbconvert_exporter": "python",
   "pygments_lexer": "ipython3",
   "version": "3.6.4"
  }
 },
 "nbformat": 4,
 "nbformat_minor": 1
}
